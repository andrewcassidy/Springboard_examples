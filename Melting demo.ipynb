{
 "cells": [
  {
   "cell_type": "code",
   "execution_count": 32,
   "metadata": {},
   "outputs": [
    {
     "data": {
      "text/html": [
       "<div>\n",
       "<style>\n",
       "    .dataframe thead tr:only-child th {\n",
       "        text-align: right;\n",
       "    }\n",
       "\n",
       "    .dataframe thead th {\n",
       "        text-align: left;\n",
       "    }\n",
       "\n",
       "    .dataframe tbody tr th {\n",
       "        vertical-align: top;\n",
       "    }\n",
       "</style>\n",
       "<table border=\"1\" class=\"dataframe\">\n",
       "  <thead>\n",
       "    <tr style=\"text-align: right;\">\n",
       "      <th></th>\n",
       "      <th>race</th>\n",
       "      <th>x</th>\n",
       "      <th>y</th>\n",
       "    </tr>\n",
       "  </thead>\n",
       "  <tbody>\n",
       "    <tr>\n",
       "      <th>0</th>\n",
       "      <td>black</td>\n",
       "      <td>40</td>\n",
       "      <td>205.408501</td>\n",
       "    </tr>\n",
       "    <tr>\n",
       "      <th>1</th>\n",
       "      <td>black</td>\n",
       "      <td>58</td>\n",
       "      <td>294.558553</td>\n",
       "    </tr>\n",
       "    <tr>\n",
       "      <th>2</th>\n",
       "      <td>black</td>\n",
       "      <td>14</td>\n",
       "      <td>76.317834</td>\n",
       "    </tr>\n",
       "    <tr>\n",
       "      <th>3</th>\n",
       "      <td>black</td>\n",
       "      <td>58</td>\n",
       "      <td>295.493593</td>\n",
       "    </tr>\n",
       "    <tr>\n",
       "      <th>4</th>\n",
       "      <td>black</td>\n",
       "      <td>97</td>\n",
       "      <td>489.448443</td>\n",
       "    </tr>\n",
       "  </tbody>\n",
       "</table>\n",
       "</div>"
      ],
      "text/plain": [
       "    race   x           y\n",
       "0  black  40  205.408501\n",
       "1  black  58  294.558553\n",
       "2  black  14   76.317834\n",
       "3  black  58  295.493593\n",
       "4  black  97  489.448443"
      ]
     },
     "execution_count": 32,
     "metadata": {},
     "output_type": "execute_result"
    }
   ],
   "source": [
    "import pandas as pd\n",
    "import numpy as np\n",
    "categorical = pd.Series([\"black\"]*50 + [\"white\"]*60 + [\"asian\"]*70)\n",
    "num_points = categorical.size\n",
    "\n",
    "\n",
    "def line_with_random_deviations(slope, intercept, num_points):\n",
    "    x = np.random.randint(100, size=num_points)\n",
    "    y = slope*x + intercept + np.random.normal(size=num_points)\n",
    "    return x, y \n",
    "\n",
    "black_line_x, black_line_y = line_with_random_deviations(5, 6, 50)\n",
    "white_line_x, white_line_y = line_with_random_deviations(6, 7, 60)\n",
    "asian_line_x, asian_line_y = line_with_random_deviations(-7, 7, 70)\n",
    "\n",
    "x = pd.Series(np.concatenate((black_line_x, white_line_x, asian_line_x)))\n",
    "y = pd.Series(np.concatenate((black_line_y, white_line_y, asian_line_y)))\n",
    "\n",
    "\n",
    "data = pd.concat([categorical, x, y], axis=1)\n",
    "data.columns = [\"race\", \"x\", \"y\"]\n",
    "data.head()"
   ]
  },
  {
   "cell_type": "code",
   "execution_count": 33,
   "metadata": {},
   "outputs": [
    {
     "data": {
      "text/plain": [
       "<bound method NDFrame.head of       x           y  race_asian  race_black  race_white\n",
       "0    40  205.408501           0           1           0\n",
       "1    58  294.558553           0           1           0\n",
       "2    14   76.317834           0           1           0\n",
       "3    58  295.493593           0           1           0\n",
       "4    97  489.448443           0           1           0\n",
       "5    94  475.084669           0           1           0\n",
       "6    41  211.047804           0           1           0\n",
       "7    75  380.494940           0           1           0\n",
       "8    71  361.215059           0           1           0\n",
       "9    32  165.407282           0           1           0\n",
       "10   81  411.016730           0           1           0\n",
       "11   98  497.538109           0           1           0\n",
       "12    5   30.311695           0           1           0\n",
       "13   47  242.337425           0           1           0\n",
       "14   16   85.765323           0           1           0\n",
       "15    7   38.912231           0           1           0\n",
       "16   27  139.419881           0           1           0\n",
       "17   87  441.229742           0           1           0\n",
       "18   21  111.938416           0           1           0\n",
       "19   35  181.580671           0           1           0\n",
       "20   60  306.279533           0           1           0\n",
       "21   83  420.986506           0           1           0\n",
       "22   74  376.212196           0           1           0\n",
       "23   50  256.651257           0           1           0\n",
       "24   22  116.421854           0           1           0\n",
       "25   98  496.174617           0           1           0\n",
       "26   15   81.605703           0           1           0\n",
       "27   96  486.718964           0           1           0\n",
       "28   59  301.161890           0           1           0\n",
       "29   51  261.996045           0           1           0\n",
       "..   ..         ...         ...         ...         ...\n",
       "150  20 -133.118283           1           0           0\n",
       "151  32 -216.934017           1           0           0\n",
       "152  38 -260.170467           1           0           0\n",
       "153  27 -180.087835           1           0           0\n",
       "154  46 -315.122050           1           0           0\n",
       "155  68 -469.996642           1           0           0\n",
       "156  87 -601.909408           1           0           0\n",
       "157   0    6.345981           1           0           0\n",
       "158  19 -126.994058           1           0           0\n",
       "159   9  -54.594372           1           0           0\n",
       "160  49 -336.058403           1           0           0\n",
       "161  49 -334.758288           1           0           0\n",
       "162  37 -251.807519           1           0           0\n",
       "163  32 -217.992434           1           0           0\n",
       "164  75 -516.607820           1           0           0\n",
       "165  31 -209.270886           1           0           0\n",
       "166  63 -435.172157           1           0           0\n",
       "167  68 -467.567111           1           0           0\n",
       "168   6  -33.701675           1           0           0\n",
       "169  49 -336.076385           1           0           0\n",
       "170  66 -455.788782           1           0           0\n",
       "171  31 -209.352997           1           0           0\n",
       "172  19 -128.422176           1           0           0\n",
       "173   4  -22.078122           1           0           0\n",
       "174   1   -0.529945           1           0           0\n",
       "175  40 -274.033011           1           0           0\n",
       "176  48 -329.747066           1           0           0\n",
       "177  65 -447.531907           1           0           0\n",
       "178  20 -134.477651           1           0           0\n",
       "179  59 -405.303680           1           0           0\n",
       "\n",
       "[180 rows x 5 columns]>"
      ]
     },
     "execution_count": 33,
     "metadata": {},
     "output_type": "execute_result"
    }
   ],
   "source": [
    "data = pd.get_dummies(data)\n",
    "data.head\n",
    "\n"
   ]
  },
  {
   "cell_type": "code",
   "execution_count": 34,
   "metadata": {},
   "outputs": [
    {
     "data": {
      "text/plain": [
       "race_white    61\n",
       "race_black    50\n",
       "race_asian    70\n",
       "dtype: int64"
      ]
     },
     "execution_count": 34,
     "metadata": {},
     "output_type": "execute_result"
    }
   ],
   "source": [
    "### Let's make someone biracial\n",
    "data.iloc[0,:] # This person is black\n",
    "# Let's also make them white\n",
    "data.loc[0,\"race_white\"] = 1\n",
    "## Let's store his/her y value for looking up later\n",
    "y_value = data.loc[0, \"y\"]\n",
    "data.loc[:,[\"race_white\", \"race_black\", \"race_asian\"]].sum(axis=0) # Notice that we now have 61 black people"
   ]
  },
  {
   "cell_type": "code",
   "execution_count": 35,
   "metadata": {},
   "outputs": [
    {
     "data": {
      "text/plain": [
       "<bound method NDFrame.head of       x           y    variable  value\n",
       "0    40  205.408501  race_asian      0\n",
       "1    58  294.558553  race_asian      0\n",
       "2    14   76.317834  race_asian      0\n",
       "3    58  295.493593  race_asian      0\n",
       "4    97  489.448443  race_asian      0\n",
       "5    94  475.084669  race_asian      0\n",
       "6    41  211.047804  race_asian      0\n",
       "7    75  380.494940  race_asian      0\n",
       "8    71  361.215059  race_asian      0\n",
       "9    32  165.407282  race_asian      0\n",
       "10   81  411.016730  race_asian      0\n",
       "11   98  497.538109  race_asian      0\n",
       "12    5   30.311695  race_asian      0\n",
       "13   47  242.337425  race_asian      0\n",
       "14   16   85.765323  race_asian      0\n",
       "15    7   38.912231  race_asian      0\n",
       "16   27  139.419881  race_asian      0\n",
       "17   87  441.229742  race_asian      0\n",
       "18   21  111.938416  race_asian      0\n",
       "19   35  181.580671  race_asian      0\n",
       "20   60  306.279533  race_asian      0\n",
       "21   83  420.986506  race_asian      0\n",
       "22   74  376.212196  race_asian      0\n",
       "23   50  256.651257  race_asian      0\n",
       "24   22  116.421854  race_asian      0\n",
       "25   98  496.174617  race_asian      0\n",
       "26   15   81.605703  race_asian      0\n",
       "27   96  486.718964  race_asian      0\n",
       "28   59  301.161890  race_asian      0\n",
       "29   51  261.996045  race_asian      0\n",
       "..   ..         ...         ...    ...\n",
       "510  20 -133.118283  race_white      0\n",
       "511  32 -216.934017  race_white      0\n",
       "512  38 -260.170467  race_white      0\n",
       "513  27 -180.087835  race_white      0\n",
       "514  46 -315.122050  race_white      0\n",
       "515  68 -469.996642  race_white      0\n",
       "516  87 -601.909408  race_white      0\n",
       "517   0    6.345981  race_white      0\n",
       "518  19 -126.994058  race_white      0\n",
       "519   9  -54.594372  race_white      0\n",
       "520  49 -336.058403  race_white      0\n",
       "521  49 -334.758288  race_white      0\n",
       "522  37 -251.807519  race_white      0\n",
       "523  32 -217.992434  race_white      0\n",
       "524  75 -516.607820  race_white      0\n",
       "525  31 -209.270886  race_white      0\n",
       "526  63 -435.172157  race_white      0\n",
       "527  68 -467.567111  race_white      0\n",
       "528   6  -33.701675  race_white      0\n",
       "529  49 -336.076385  race_white      0\n",
       "530  66 -455.788782  race_white      0\n",
       "531  31 -209.352997  race_white      0\n",
       "532  19 -128.422176  race_white      0\n",
       "533   4  -22.078122  race_white      0\n",
       "534   1   -0.529945  race_white      0\n",
       "535  40 -274.033011  race_white      0\n",
       "536  48 -329.747066  race_white      0\n",
       "537  65 -447.531907  race_white      0\n",
       "538  20 -134.477651  race_white      0\n",
       "539  59 -405.303680  race_white      0\n",
       "\n",
       "[540 rows x 4 columns]>"
      ]
     },
     "execution_count": 35,
     "metadata": {},
     "output_type": "execute_result"
    }
   ],
   "source": [
    "melted_data = pd.melt(data, id_vars=[\"x\", \"y\"])\n",
    "melted_data.head"
   ]
  },
  {
   "cell_type": "code",
   "execution_count": 36,
   "metadata": {},
   "outputs": [],
   "source": [
    "# Filter Out all the 0 values (aka this person doesn't identity with this race)\n",
    "melted_data = melted_data.loc[melted_data.loc[:,\"value\"] == 1]"
   ]
  },
  {
   "cell_type": "code",
   "execution_count": 37,
   "metadata": {},
   "outputs": [
    {
     "data": {
      "text/html": [
       "<div>\n",
       "<style>\n",
       "    .dataframe thead tr:only-child th {\n",
       "        text-align: right;\n",
       "    }\n",
       "\n",
       "    .dataframe thead th {\n",
       "        text-align: left;\n",
       "    }\n",
       "\n",
       "    .dataframe tbody tr th {\n",
       "        vertical-align: top;\n",
       "    }\n",
       "</style>\n",
       "<table border=\"1\" class=\"dataframe\">\n",
       "  <thead>\n",
       "    <tr style=\"text-align: right;\">\n",
       "      <th></th>\n",
       "      <th>x</th>\n",
       "      <th>y</th>\n",
       "      <th>variable</th>\n",
       "      <th>value</th>\n",
       "    </tr>\n",
       "  </thead>\n",
       "  <tbody>\n",
       "    <tr>\n",
       "      <th>180</th>\n",
       "      <td>40</td>\n",
       "      <td>205.408501</td>\n",
       "      <td>race_black</td>\n",
       "      <td>1</td>\n",
       "    </tr>\n",
       "    <tr>\n",
       "      <th>360</th>\n",
       "      <td>40</td>\n",
       "      <td>205.408501</td>\n",
       "      <td>race_white</td>\n",
       "      <td>1</td>\n",
       "    </tr>\n",
       "  </tbody>\n",
       "</table>\n",
       "</div>"
      ],
      "text/plain": [
       "      x           y    variable  value\n",
       "180  40  205.408501  race_black      1\n",
       "360  40  205.408501  race_white      1"
      ]
     },
     "execution_count": 37,
     "metadata": {},
     "output_type": "execute_result"
    }
   ],
   "source": [
    "## Let's check that our biracial person shows up twice\n",
    "melted_data.loc[melted_data.loc[:,\"y\"] == y_value]"
   ]
  },
  {
   "cell_type": "code",
   "execution_count": 39,
   "metadata": {},
   "outputs": [],
   "source": [
    "# Let's clean up our melted dataframe\n",
    "del melted_data[\"value\"] # All 1s now\n",
    "melted_data.columns = [\"x\", \"y\", \"race\"]"
   ]
  },
  {
   "cell_type": "code",
   "execution_count": 40,
   "metadata": {
    "collapsed": true
   },
   "outputs": [],
   "source": [
    "import seaborn as sns\n",
    "%matplotlib inline\n"
   ]
  },
  {
   "cell_type": "code",
   "execution_count": 41,
   "metadata": {},
   "outputs": [
    {
     "data": {
      "text/plain": [
       "<matplotlib.axes._subplots.AxesSubplot at 0x118275f28>"
      ]
     },
     "execution_count": 41,
     "metadata": {},
     "output_type": "execute_result"
    },
    {
     "data": {
      "image/png": "[encoded data removed]",
      "text/plain": [
       "<matplotlib.figure.Figure at 0x11828fa90>"
      ]
     },
     "metadata": {},
     "output_type": "display_data"
    }
   ],
   "source": [
    "sns.regplot(x=\"x\", y=\"y\", data=data) # No relationships"
   ]
  },
  {
   "cell_type": "code",
   "execution_count": 44,
   "metadata": {},
   "outputs": [
    {
     "data": {
      "text/plain": [
       "<seaborn.axisgrid.FacetGrid at 0x1183fb048>"
      ]
     },
     "execution_count": 44,
     "metadata": {},
     "output_type": "execute_result"
    },
    {
     "data": {
      "image/png": "[encoded data removed]",
      "text/plain": [
       "<matplotlib.figure.Figure at 0x1183fbcc0>"
      ]
     },
     "metadata": {},
     "output_type": "display_data"
    }
   ],
   "source": [
    "# https://seaborn.pydata.org/generated/seaborn.lmplot.html#seaborn.lmplot combines regplot() and FacetGrid to plot multiple linear relationships in a dataset.\n",
    "sns.lmplot(x=\"x\", y=\"y\", hue=\"race\", data=melted_data)"
   ]
  },
  {
   "cell_type": "code",
   "execution_count": null,
   "metadata": {
    "collapsed": true
   },
   "outputs": [],
   "source": []
  }
 ],
 "metadata": {
  "kernelspec": {
   "display_name": "Python 3",
   "language": "python",
   "name": "python3"
  },
  "language_info": {
   "codemirror_mode": {
    "name": "ipython",
    "version": 3
   },
   "file_extension": ".py",
   "mimetype": "text/x-python",
   "name": "python",
   "nbconvert_exporter": "python",
   "pygments_lexer": "ipython3",
   "version": "3.6.1"
  }
 },
 "nbformat": 4,
 "nbformat_minor": 2
}
